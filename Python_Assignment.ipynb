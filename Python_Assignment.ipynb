{
 "cells": [
  {
   "cell_type": "code",
   "execution_count": 1,
   "id": "a4eeac8d",
   "metadata": {},
   "outputs": [
    {
     "name": "stdout",
     "output_type": "stream",
     "text": [
      "year is not leap\n"
     ]
    }
   ],
   "source": [
    "# 1. Write a python program to check Leap year\n",
    "\n",
    "a = 1918\n",
    "if a % 4 == 0:\n",
    "    print(\"year is leap\")\n",
    "else:\n",
    "    print(\"year is not leap\")"
   ]
  },
  {
   "cell_type": "code",
   "execution_count": 3,
   "id": "bc0c21ef",
   "metadata": {},
   "outputs": [
    {
     "data": {
      "text/plain": [
       "['a', 'd', 'g', 'h', 'k', 'r', 't']"
      ]
     },
     "execution_count": 3,
     "metadata": {},
     "output_type": "execute_result"
    }
   ],
   "source": [
    "# 2. write a python program to sort words in alphabetic order\n",
    "\n",
    "A = ['a','d','r','t','k','h','g']\n",
    "A.sort(reverse=False)\n",
    "A"
   ]
  },
  {
   "cell_type": "code",
   "execution_count": 4,
   "id": "30dddf16",
   "metadata": {},
   "outputs": [
    {
     "data": {
      "text/plain": [
       "\"wow it's a great news\""
      ]
     },
     "execution_count": 4,
     "metadata": {},
     "output_type": "execute_result"
    }
   ],
   "source": [
    "# 3. write a python program to remove punctuation from a string\n",
    "\n",
    "a = \"wow! it's a great news\"\n",
    "a.replace(\"!\",\"\")"
   ]
  },
  {
   "cell_type": "code",
   "execution_count": 2,
   "id": "8c438bb9",
   "metadata": {},
   "outputs": [
    {
     "name": "stdout",
     "output_type": "stream",
     "text": [
      "{'a': 11, 'b': 12, 'c': 13, 'd': 14, 'e': 15}\n"
     ]
    }
   ],
   "source": [
    "# 4. write a python program to convert key-values list to flat dictonary\n",
    "\n",
    "l = ['a','b','c','d','e']\n",
    "l1 = [11,12,13,14,15]\n",
    "dict = {}\n",
    "for i in range(len(l)):\n",
    "    dict[l[i]] = l1[i]\n",
    "print(dict)"
   ]
  },
  {
   "cell_type": "code",
   "execution_count": 5,
   "id": "f7b7f19e",
   "metadata": {},
   "outputs": [
    {
     "name": "stdout",
     "output_type": "stream",
     "text": [
      "[1, 4, 9, 16, 25, 36, 49, 64, 81]\n"
     ]
    }
   ],
   "source": [
    "# 5.  create a list of squared intergers from a given list of integers \n",
    "\n",
    "l = []\n",
    "for i in range (1,10):\n",
    " l.append((i) * (i))\n",
    "print(l)\n"
   ]
  },
  {
   "cell_type": "code",
   "execution_count": 1,
   "id": "66a3100e",
   "metadata": {},
   "outputs": [
    {
     "name": "stdout",
     "output_type": "stream",
     "text": [
      "['a', 'a', 'a', 'i', 'o', 'o', 'a', 'i', 'u', 'a', 'i']\n"
     ]
    }
   ],
   "source": [
    "# 6. remove all the vowels from a given string\n",
    "\n",
    "\n",
    "l = ['ram','sayali','pooja','niks','rupali']\n",
    "l1 = ['a','e','i','o','u']\n",
    "vowels = []\n",
    "for i in l:\n",
    "    for str in i:\n",
    "        if str in l1:\n",
    "            vowels.append(str)\n",
    "print(vowels)"
   ]
  },
  {
   "cell_type": "code",
   "execution_count": 17,
   "id": "e83b8340",
   "metadata": {},
   "outputs": [],
   "source": [
    "# 7.  count the numbers of time each character appears in a given string \n",
    "\n",
    "a = 'i am a working in cummins'\n",
    "def count_char(a):\n",
    "    count = {}\n",
    "    for char in a:\n",
    "        if char in count:\n",
    "            count[char] += 1\n",
    "        else:\n",
    "            count[char] = 1\n",
    "            \n",
    "    return count"
   ]
  },
  {
   "cell_type": "code",
   "execution_count": 18,
   "id": "7f04e49d",
   "metadata": {},
   "outputs": [
    {
     "data": {
      "text/plain": [
       "{'i': 4,\n",
       " ' ': 5,\n",
       " 'a': 2,\n",
       " 'm': 3,\n",
       " 'w': 1,\n",
       " 'o': 1,\n",
       " 'r': 1,\n",
       " 'k': 1,\n",
       " 'n': 3,\n",
       " 'g': 1,\n",
       " 'c': 1,\n",
       " 'u': 1,\n",
       " 's': 1}"
      ]
     },
     "execution_count": 18,
     "metadata": {},
     "output_type": "execute_result"
    }
   ],
   "source": [
    "count_char(a)"
   ]
  },
  {
   "cell_type": "code",
   "execution_count": 20,
   "id": "ac1faead",
   "metadata": {},
   "outputs": [
    {
     "name": "stdout",
     "output_type": "stream",
     "text": [
      "['1', '2', '6']\n"
     ]
    }
   ],
   "source": [
    "# 8. count the number of times each characters appears in a given string \n",
    "\n",
    "s = ['a','1','s','2','d','f','6']\n",
    "isnumeric = []\n",
    "for i in s:\n",
    "    if i.isdigit():\n",
    "        isnumeric.append(i)\n",
    "print(isnumeric)"
   ]
  },
  {
   "cell_type": "code",
   "execution_count": 23,
   "id": "8e6f96ae",
   "metadata": {},
   "outputs": [
    {
     "name": "stdout",
     "output_type": "stream",
     "text": [
      "[15, 90, 45]\n"
     ]
    }
   ],
   "source": [
    "# 9. create a list of all numbers that are divisible by 3 and 5 from a given list of integers using list comprehension \n",
    "\n",
    "l = [3,5,9,15,90,45,80]\n",
    "l1 = []\n",
    "for i in l:\n",
    "    if i % 3 == 0 and i % 5 == 0:\n",
    "        l1.append(i)\n",
    "print(l1)"
   ]
  },
  {
   "cell_type": "code",
   "execution_count": 7,
   "id": "19482fc3",
   "metadata": {},
   "outputs": [],
   "source": [
    "# 10. find the sum of all the elements in a given array of integers.\n",
    "\n",
    "l = [3,5,9,15,90,45,80]\n"
   ]
  },
  {
   "cell_type": "code",
   "execution_count": 8,
   "id": "fa29d9d9",
   "metadata": {},
   "outputs": [
    {
     "data": {
      "text/plain": [
       "247"
      ]
     },
     "execution_count": 8,
     "metadata": {},
     "output_type": "execute_result"
    }
   ],
   "source": [
    "import numpy as np\n",
    "a = np.array(l)\n",
    "sum(a)"
   ]
  },
  {
   "cell_type": "code",
   "execution_count": 9,
   "id": "25164385",
   "metadata": {},
   "outputs": [
    {
     "name": "stdout",
     "output_type": "stream",
     "text": [
      "247\n"
     ]
    }
   ],
   "source": [
    "total = 0\n",
    "for i in l:\n",
    "    total += i\n",
    "print(total)"
   ]
  },
  {
   "cell_type": "code",
   "execution_count": null,
   "id": "b80f7324",
   "metadata": {},
   "outputs": [],
   "source": []
  }
 ],
 "metadata": {
  "kernelspec": {
   "display_name": "Python 3 (ipykernel)",
   "language": "python",
   "name": "python3"
  },
  "language_info": {
   "codemirror_mode": {
    "name": "ipython",
    "version": 3
   },
   "file_extension": ".py",
   "mimetype": "text/x-python",
   "name": "python",
   "nbconvert_exporter": "python",
   "pygments_lexer": "ipython3",
   "version": "3.11.4"
  }
 },
 "nbformat": 4,
 "nbformat_minor": 5
}
